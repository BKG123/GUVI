{
  "nbformat": 4,
  "nbformat_minor": 0,
  "metadata": {
    "colab": {
      "name": "Registration-system_Python.ipynb",
      "provenance": [],
      "collapsed_sections": []
    },
    "kernelspec": {
      "name": "python3",
      "display_name": "Python 3"
    },
    "language_info": {
      "name": "python"
    }
  },
  "cells": [
    {
      "cell_type": "markdown",
      "source": [
        "Assignment 0 \n",
        "*   Name: Bejay Ketan Guin\n",
        "*   email: bejay.ketan1@gmail.com\n",
        "\n",
        "\n"
      ],
      "metadata": {
        "id": "aGbPxXLYPmgj"
      }
    },
    {
      "cell_type": "code",
      "execution_count": 1,
      "metadata": {
        "id": "XqT17Nbk6be2"
      },
      "outputs": [],
      "source": [
        "class Registration:\n",
        "  def __init__(self):\n",
        "    f = open(\"Registration.txt\",\"a\")\n",
        "    f.close()\n",
        "\n",
        "  def record(self):\n",
        "    f = open(\"Registration.txt\",\"r\")\n",
        "    e = []\n",
        "    p = []\n",
        "    for i in f:\n",
        "      a,b= i.split(\",\")\n",
        "      e.append(a)\n",
        "      b=b.strip()\n",
        "      p.append(b)\n",
        "    dict1 = dict(zip(e,p))\n",
        "    return dict1\n",
        "\n",
        "  def reg_User(self,email,password):\n",
        "    d = self.record()\n",
        "    if email in d.keys():\n",
        "      print(\"User already exists\")\n",
        "      return\n",
        "    flag = 0 \n",
        "\n",
        "    if '@.' in email or '@' not in email or email[0]=='@' or '.' not in email:\n",
        "      flag = 1\n",
        "      print(\"Error.\\n Enter valid email\")\n",
        "    if len(password) <=5 or len(password) >=16:\n",
        "      flag = 2\n",
        "      print(\"Error.\\n Length of the password should be between 5 and 16 characters\")\n",
        "\n",
        "    if (flag ==0):\n",
        "      #self.df_table = self.df_table.append({'Name' : self.name, 'Email' : self.email, 'Password' : self.password},ignore_index=True)\n",
        "      file_reg  = open(\"Registration.txt\", \"a\")\n",
        "      file_reg.write(email + \",\" + password +\"\\n\")\n",
        "      file_reg.close()\n",
        "      print(\"User Registered successfully\")\n",
        "\n",
        "  def login(self,email,password):\n",
        "    d = self.record()\n",
        "    if email in d.keys():\n",
        "      if d[email] == password:\n",
        "        print(\"You have logged in successfully\")\n",
        "      else:\n",
        "        print(\"Password is incorrect. If you have forgotten your password, enter 1 else enter 0 to exit\")\n",
        "        if int(input())==1:\n",
        "          print(f\"Your password is {d[email]}\")\n",
        "        else:\n",
        "          print(\"Bye.\")\n",
        "    else:\n",
        "      print(\"User not registered. PLease register\")"
      ]
    },
    {
      "cell_type": "code",
      "source": [
        "# Registration of two users\n",
        "user1 = Registration()\n",
        "user1.reg_User('bejay@gmail.com','363345')\n",
        "user2 = Registration()\n",
        "user2.reg_User('emmawatson1990@gmail.com','hell1o')"
      ],
      "metadata": {
        "colab": {
          "base_uri": "https://localhost:8080/"
        },
        "id": "Uv-BfSVl_QfR",
        "outputId": "383502b4-78ae-4301-fc3b-55fb45eb3c62"
      },
      "execution_count": 2,
      "outputs": [
        {
          "output_type": "stream",
          "name": "stdout",
          "text": [
            "User Registered successfully\n",
            "User Registered successfully\n"
          ]
        }
      ]
    },
    {
      "cell_type": "code",
      "source": [
        "# Login correct\n",
        "Registration().login('bejay@gmail.com','363345')"
      ],
      "metadata": {
        "id": "hjicUsP0t6kB",
        "colab": {
          "base_uri": "https://localhost:8080/"
        },
        "outputId": "26db7223-f5c1-4515-8fe8-465c53e1a7c5"
      },
      "execution_count": 3,
      "outputs": [
        {
          "output_type": "stream",
          "name": "stdout",
          "text": [
            "You have logged in successfully\n"
          ]
        }
      ]
    },
    {
      "cell_type": "code",
      "source": [
        "# Login incorrect: No username\n",
        "Registration().login('beajay@gmail.com','363345')"
      ],
      "metadata": {
        "colab": {
          "base_uri": "https://localhost:8080/"
        },
        "id": "O2JBLDfNQgrh",
        "outputId": "6f99bead-af5b-47d2-9931-ce6b348ecfde"
      },
      "execution_count": 4,
      "outputs": [
        {
          "output_type": "stream",
          "name": "stdout",
          "text": [
            "User not registered. PLease register\n"
          ]
        }
      ]
    },
    {
      "cell_type": "code",
      "source": [
        "#Login incorrect password\n",
        "Registration().login('emmawatson1990@gmail.com','hello')"
      ],
      "metadata": {
        "colab": {
          "base_uri": "https://localhost:8080/"
        },
        "id": "JXB2Yxm3QsEL",
        "outputId": "894eca08-4432-4dda-9b00-64ff7b2ba8dc"
      },
      "execution_count": 5,
      "outputs": [
        {
          "output_type": "stream",
          "name": "stdout",
          "text": [
            "Password is incorrect. If you have forgotten your password, enter 1 else enter 0 to exit\n",
            "0\n",
            "Bye.\n"
          ]
        }
      ]
    },
    {
      "cell_type": "code",
      "source": [
        "#Login incorrect password, forgot password\n",
        "Registration().login('emmawatson1990@gmail.com','hello')"
      ],
      "metadata": {
        "colab": {
          "base_uri": "https://localhost:8080/"
        },
        "id": "7wj7B7ovQ66T",
        "outputId": "6e4000c1-c416-43aa-ea39-b6863d1446b6"
      },
      "execution_count": 6,
      "outputs": [
        {
          "output_type": "stream",
          "name": "stdout",
          "text": [
            "Password is incorrect. If you have forgotten your password, enter 1 else enter 0 to exit\n",
            "1\n",
            "Your password is hell1o\n"
          ]
        }
      ]
    },
    {
      "cell_type": "code",
      "source": [
        ""
      ],
      "metadata": {
        "id": "QWHwvrgkRf-h"
      },
      "execution_count": null,
      "outputs": []
    }
  ]
}
